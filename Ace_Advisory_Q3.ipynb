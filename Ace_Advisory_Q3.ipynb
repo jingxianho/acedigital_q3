{
  "nbformat": 4,
  "nbformat_minor": 0,
  "metadata": {
    "colab": {
      "provenance": []
    },
    "kernelspec": {
      "name": "python3",
      "display_name": "Python 3"
    },
    "language_info": {
      "name": "python"
    }
  },
  "cells": [
    {
      "cell_type": "code",
      "execution_count": null,
      "metadata": {
        "colab": {
          "base_uri": "https://localhost:8080/"
        },
        "id": "xwpAlrWzZLlV",
        "outputId": "46269ecc-a8f8-4537-f428-4cdd11bed023"
      },
      "outputs": [
        {
          "output_type": "stream",
          "name": "stdout",
          "text": [
            "Line: As a term, data analytics predominantly refers to an assortment of applications, from basic business intelligence (BI), reporting and online analytical processing (OLAP) to various forms of advanced analytics\n",
            "Probability of 'data' occurring: 0.03\n",
            "\n",
            "Line: In that sense, it's similar in nature to business analytics, another umbrella term for approaches to analyzing data -- with the difference that the latter is oriented to business uses, while data analytics has a broader focus\n",
            "Probability of 'data' occurring: 0.05\n",
            "\n",
            "Line: The expansive view of the term isn't universal, though: In some cases, people use data analytics specifically to mean advanced analytics, treating BI as a separate category\n",
            "Probability of 'data' occurring: 0.04\n",
            "\n",
            "Line: Data analytics initiatives can help businesses increase revenues, improve operational efficiency, optimize marketing campaigns and customer service efforts, respond more quickly to emerging market trends and gain a competitive edge over rivals -- all with the ultimate goal of boosting business performance\n",
            "Probability of 'data' occurring: 0.02\n",
            "\n",
            "Line: Depending on the particular application, the data that's analyzed can consist of either historical records or new information that has been processed for real-time analytics uses\n",
            "Probability of 'data' occurring: 0.04\n",
            "\n",
            "Line: In addition, it can come from a mix of internal systems and external data sources\n",
            "Probability of 'data' occurring: 0.07\n",
            "\n",
            "Line: At a high level, data analytics methodologies include exploratory data analysis (EDA), which aims to find patterns and relationships in data, and confirmatory data analysis (CDA), which applies statistical techniques to determine whether hypotheses about a data set are true or false\n",
            "Probability of 'data' occurring: 0.12\n",
            "\n",
            "Line: EDA is often compared to detective work, while CDA is akin to the work of a judge or jury during a court trial -- a distinction first drawn by statistician John W\n",
            "Probability of 'data' occurring: 0.00\n",
            "\n",
            "Line: Tukey in his 1977 book Exploratory Data Analysis\n",
            "Probability of 'data' occurring: 0.12\n",
            "\n",
            "Line: Data analytics can also be separated into quantitative data analysis and qualitative data analysis\n",
            "Probability of 'data' occurring: 0.21\n",
            "\n",
            "Line: The former involves analysis of numerical data with quantifiable variables that can be compared or measured statistically\n",
            "Probability of 'data' occurring: 0.06\n",
            "\n",
            "Line: The qualitative approach is more interpretive -- it focuses on understanding the content of non-numerical data like text, images, audio and video, including common phrases, themes and points of view.\n",
            "Probability of 'data' occurring: 0.03\n",
            "\n"
          ]
        }
      ],
      "source": [
        "paragraph = \"\"\"As a term, data analytics predominantly refers to an assortment of applications, from basic business intelligence (BI), reporting and online analytical processing (OLAP) to various forms of advanced analytics.\n",
        "In that sense, it's similar in nature to business analytics, another umbrella term for approaches to analyzing data -- with the difference that the latter is oriented to business uses, while data analytics has a broader focus. The expansive view of the term isn't universal, though: In some cases, people use data analytics specifically to mean advanced analytics, treating BI as a separate category. Data analytics initiatives can help businesses increase revenues, improve operational efficiency, optimize marketing campaigns and customer service efforts, respond more quickly to emerging market trends and gain a competitive edge over rivals -- all with the ultimate goal of boosting business performance. Depending on the particular application, the data that's analyzed can consist of either historical records or new information that has been processed for real-time analytics uses. In addition, it can come from a mix of internal systems and external data sources. At a high level, data analytics methodologies include exploratory data analysis (EDA), which aims to find patterns and relationships in data, and confirmatory data analysis (CDA), which applies statistical techniques to determine whether hypotheses about a data set are true or false. EDA is often compared to detective work, while CDA is akin to the work of a judge or jury during a court trial -- a distinction first drawn by statistician John W. Tukey in his 1977 book Exploratory Data Analysis. Data analytics can also be separated into quantitative data analysis and qualitative data analysis. The former involves analysis of numerical data with quantifiable variables that can be compared or measured statistically. The qualitative approach is more interpretive -- it focuses on understanding the content of non-numerical data like text, images, audio and video, including common phrases, themes and points of view.\"\"\"\n",
        "\n",
        "lines = paragraph.split(\". \")  # Split paragraph into lines at each full stop followed by a space\n",
        "\n",
        "total_lines = len(lines)  # Get the total number of lines\n",
        "\n",
        "for line in lines:\n",
        "    word_count = len(line.split())  # Get the total number of words in the line\n",
        "    data_count = line.lower().count(\"data\")  # Count the occurrences of \"data\" in the line\n",
        "    probability = data_count / word_count  # Calculate the probability\n",
        "\n",
        "    print(f\"Line: {line.strip()}\")\n",
        "    print(f\"Probability of 'data' occurring: {probability:.2f}\\n\")"
      ]
    },
    {
      "cell_type": "code",
      "source": [
        "for line in lines:\n",
        "    words = line.split()  # Split the line into words\n",
        "    word_count = len(words)  # Get the total number of words\n",
        "    distinct_word_count = len(set(words))  # Get the number of distinct words\n",
        "\n",
        "    print(\"Line:\", line)\n",
        "    print(\"Word Count:\", word_count)\n",
        "    print(\"Distinct Word Count:\", distinct_word_count)\n",
        "    print()"
      ],
      "metadata": {
        "colab": {
          "base_uri": "https://localhost:8080/"
        },
        "id": "e1yWe0tsb_0N",
        "outputId": "f3d9cca2-f8e5-41e2-a0b8-962e315b4e74"
      },
      "execution_count": null,
      "outputs": [
        {
          "output_type": "stream",
          "name": "stdout",
          "text": [
            "Line: As a term, data analytics predominantly refers to an assortment of applications, from basic business intelligence (BI), reporting and online analytical processing (OLAP) to various forms of advanced analytics\n",
            "Word Count: 29\n",
            "Distinct Word Count: 26\n",
            "\n",
            "Line: \n",
            "In that sense, it's similar in nature to business analytics, another umbrella term for approaches to analyzing data -- with the difference that the latter is oriented to business uses, while data analytics has a broader focus\n",
            "Word Count: 37\n",
            "Distinct Word Count: 31\n",
            "\n",
            "Line: The expansive view of the term isn't universal, though: In some cases, people use data analytics specifically to mean advanced analytics, treating BI as a separate category\n",
            "Word Count: 27\n",
            "Distinct Word Count: 27\n",
            "\n",
            "Line: Data analytics initiatives can help businesses increase revenues, improve operational efficiency, optimize marketing campaigns and customer service efforts, respond more quickly to emerging market trends and gain a competitive edge over rivals -- all with the ultimate goal of boosting business performance\n",
            "Word Count: 42\n",
            "Distinct Word Count: 41\n",
            "\n",
            "Line: Depending on the particular application, the data that's analyzed can consist of either historical records or new information that has been processed for real-time analytics uses\n",
            "Word Count: 26\n",
            "Distinct Word Count: 25\n",
            "\n",
            "Line: In addition, it can come from a mix of internal systems and external data sources\n",
            "Word Count: 15\n",
            "Distinct Word Count: 15\n",
            "\n",
            "Line: At a high level, data analytics methodologies include exploratory data analysis (EDA), which aims to find patterns and relationships in data, and confirmatory data analysis (CDA), which applies statistical techniques to determine whether hypotheses about a data set are true or false\n",
            "Word Count: 42\n",
            "Distinct Word Count: 34\n",
            "\n",
            "Line: EDA is often compared to detective work, while CDA is akin to the work of a judge or jury during a court trial -- a distinction first drawn by statistician John W\n",
            "Word Count: 32\n",
            "Distinct Word Count: 28\n",
            "\n",
            "Line: Tukey in his 1977 book Exploratory Data Analysis\n",
            "Word Count: 8\n",
            "Distinct Word Count: 8\n",
            "\n",
            "Line: Data analytics can also be separated into quantitative data analysis and qualitative data analysis\n",
            "Word Count: 14\n",
            "Distinct Word Count: 12\n",
            "\n",
            "Line: The former involves analysis of numerical data with quantifiable variables that can be compared or measured statistically\n",
            "Word Count: 17\n",
            "Distinct Word Count: 17\n",
            "\n",
            "Line: The qualitative approach is more interpretive -- it focuses on understanding the content of non-numerical data like text, images, audio and video, including common phrases, themes and points of view.\n",
            "Word Count: 30\n",
            "Distinct Word Count: 28\n",
            "\n"
          ]
        }
      ]
    },
    {
      "cell_type": "code",
      "source": [
        "word_to_find = \"analytics\"\n",
        "word_before = \"data\"\n",
        "\n",
        "# Split the paragraph into words\n",
        "words = paragraph.split()\n",
        "\n",
        "# Count the number of occurrences of the word \"analytics\" after the word \"data\"\n",
        "count = 0\n",
        "for i in range(len(words) - 1):\n",
        "    if words[i].lower() == word_before and words[i + 1].lower() == word_to_find:\n",
        "        count += 1\n",
        "\n",
        "# Calculate the probability\n",
        "probability = count / (paragraph.count(word_before) - 1)\n",
        "\n",
        "print(\"Probability of 'analytics' occurring after 'data':\", probability)"
      ],
      "metadata": {
        "colab": {
          "base_uri": "https://localhost:8080/"
        },
        "id": "XbvDJY_mcYeM",
        "outputId": "b739048e-8fb8-48f0-b740-3c04a12dea45"
      },
      "execution_count": null,
      "outputs": [
        {
          "output_type": "stream",
          "name": "stdout",
          "text": [
            "Probability of 'analytics' occurring after 'data': 0.42857142857142855\n"
          ]
        }
      ]
    },
    {
      "cell_type": "code",
      "source": [],
      "metadata": {
        "id": "C0RPLBR3c_d5"
      },
      "execution_count": null,
      "outputs": []
    }
  ]
}